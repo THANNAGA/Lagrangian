{
  "nbformat": 4,
  "nbformat_minor": 0,
  "metadata": {
    "colab": {
      "provenance": [],
      "authorship_tag": "ABX9TyPs8ugfMfi4THHfd6NEO41i",
      "include_colab_link": true
    },
    "kernelspec": {
      "name": "python3",
      "display_name": "Python 3"
    },
    "language_info": {
      "name": "python"
    }
  },
  "cells": [
    {
      "cell_type": "markdown",
      "metadata": {
        "id": "view-in-github",
        "colab_type": "text"
      },
      "source": [
        "<a href=\"https://colab.research.google.com/github/THANNAGA/Lagrangian/blob/main/GLV_bounded_lagrangian.ipynb\" target=\"_parent\"><img src=\"https://colab.research.google.com/assets/colab-badge.svg\" alt=\"Open In Colab\"/></a>"
      ]
    },
    {
      "cell_type": "code",
      "source": [
        "import os\n",
        "from collections import OrderedDict\n",
        "\n",
        "import numpy as np\n",
        "import matplotlib.pyplot as plt\n",
        "\n",
        "import torch\n",
        "from torchvision.datasets import MNIST\n",
        "from torch.utils.data import DataLoader, random_split\n",
        "from torchvision import transforms\n",
        "\n",
        "!pip install git+https://github.com/cooper-org/cooper.git\n",
        "import cooper\n",
        "from copy import deepcopy as copy"
      ],
      "metadata": {
        "id": "j5bMwl_HmmnN",
        "outputId": "c7ff2fe3-d3fc-46fd-8170-b97a48209f54",
        "colab": {
          "base_uri": "https://localhost:8080/"
        }
      },
      "execution_count": 3,
      "outputs": [
        {
          "output_type": "stream",
          "name": "stdout",
          "text": [
            "Collecting git+https://github.com/cooper-org/cooper.git\n",
            "  Cloning https://github.com/cooper-org/cooper.git to /tmp/pip-req-build-enczibfy\n",
            "  Running command git clone --filter=blob:none --quiet https://github.com/cooper-org/cooper.git /tmp/pip-req-build-enczibfy\n",
            "  Resolved https://github.com/cooper-org/cooper.git to commit eae7c5a68563b83410913c8b24e99b70e32694f3\n",
            "  Installing build dependencies ... \u001b[?25l\u001b[?25hdone\n",
            "  Getting requirements to build wheel ... \u001b[?25l\u001b[?25hdone\n",
            "  Preparing metadata (pyproject.toml) ... \u001b[?25l\u001b[?25hdone\n",
            "Requirement already satisfied: torch>=1.8.1 in /usr/local/lib/python3.10/dist-packages (from cooper==0.1.dev8+geae7c5a) (2.0.1+cu118)\n",
            "Requirement already satisfied: numpy>=1.21.0 in /usr/local/lib/python3.10/dist-packages (from cooper==0.1.dev8+geae7c5a) (1.22.4)\n",
            "Requirement already satisfied: filelock in /usr/local/lib/python3.10/dist-packages (from torch>=1.8.1->cooper==0.1.dev8+geae7c5a) (3.12.2)\n",
            "Requirement already satisfied: typing-extensions in /usr/local/lib/python3.10/dist-packages (from torch>=1.8.1->cooper==0.1.dev8+geae7c5a) (4.7.1)\n",
            "Requirement already satisfied: sympy in /usr/local/lib/python3.10/dist-packages (from torch>=1.8.1->cooper==0.1.dev8+geae7c5a) (1.11.1)\n",
            "Requirement already satisfied: networkx in /usr/local/lib/python3.10/dist-packages (from torch>=1.8.1->cooper==0.1.dev8+geae7c5a) (3.1)\n",
            "Requirement already satisfied: jinja2 in /usr/local/lib/python3.10/dist-packages (from torch>=1.8.1->cooper==0.1.dev8+geae7c5a) (3.1.2)\n",
            "Requirement already satisfied: triton==2.0.0 in /usr/local/lib/python3.10/dist-packages (from torch>=1.8.1->cooper==0.1.dev8+geae7c5a) (2.0.0)\n",
            "Requirement already satisfied: cmake in /usr/local/lib/python3.10/dist-packages (from triton==2.0.0->torch>=1.8.1->cooper==0.1.dev8+geae7c5a) (3.25.2)\n",
            "Requirement already satisfied: lit in /usr/local/lib/python3.10/dist-packages (from triton==2.0.0->torch>=1.8.1->cooper==0.1.dev8+geae7c5a) (16.0.6)\n",
            "Requirement already satisfied: MarkupSafe>=2.0 in /usr/local/lib/python3.10/dist-packages (from jinja2->torch>=1.8.1->cooper==0.1.dev8+geae7c5a) (2.1.3)\n",
            "Requirement already satisfied: mpmath>=0.19 in /usr/local/lib/python3.10/dist-packages (from sympy->torch>=1.8.1->cooper==0.1.dev8+geae7c5a) (1.3.0)\n",
            "Building wheels for collected packages: cooper\n",
            "  Building wheel for cooper (pyproject.toml) ... \u001b[?25l\u001b[?25hdone\n",
            "  Created wheel for cooper: filename=cooper-0.1.dev8+geae7c5a-py3-none-any.whl size=22101 sha256=6cfda55a1ca64213cc478527d442adcd535a835a20468442f947965023773e69\n",
            "  Stored in directory: /tmp/pip-ephem-wheel-cache-iwjzi_s1/wheels/17/2a/69/d1383f8d416e79d1943da9a72deb9c295d6a2988fceabc9f9d\n",
            "Successfully built cooper\n",
            "Installing collected packages: cooper\n",
            "Successfully installed cooper-0.1.dev8+geae7c5a\n"
          ]
        }
      ]
    },
    {
      "cell_type": "markdown",
      "source": [
        "## Lagrangian classes"
      ],
      "metadata": {
        "id": "Us1WdbC6oKOX"
      }
    },
    {
      "cell_type": "code",
      "source": [
        "class LogisticRegression(torch.nn.Module):\n",
        "    def __init__(self, input_dim, output_dim):\n",
        "        super(LogisticRegression, self).__init__()\n",
        "        self.input_dim = input_dim\n",
        "        self.linear = torch.nn.Linear(input_dim, output_dim)\n",
        "\n",
        "    def forward(self, x):\n",
        "        x = x.view(-1, self.input_dim)\n",
        "        outputs = self.linear(x)\n",
        "        return outputs\n",
        "\n",
        "\n",
        "class NormConstrainedLogReg(cooper.ConstrainedMinimizationProblem):\n",
        "    def __init__(self):\n",
        "        self.criterion = torch.nn.CrossEntropyLoss()\n",
        "        super().__init__(is_constrained=True)\n",
        "\n",
        "    def closure(self, model, inputs, targets):\n",
        "\n",
        "        pred_logits = model.forward(inputs)\n",
        "        loss = self.criterion(pred_logits, targets)\n",
        "\n",
        "        # We want each row of W to have norm less than or equal to 1\n",
        "        # g(W) <= 1  ---> g(W) - 1 <= 0\n",
        "        ineq_defect = model.linear.weight.norm(dim=1) - 1\n",
        "\n",
        "        return cooper.CMPState(loss=loss, ineq_defect=ineq_defect, eq_defect=None)\n",
        "\n",
        "class SumConstrainedLogReg(cooper.ConstrainedMinimizationProblem):\n",
        "    def __init__(self):\n",
        "        self.criterion = torch.nn.CrossEntropyLoss()\n",
        "        super().__init__(is_constrained=True)\n",
        "\n",
        "    def closure(self, model, inputs, targets):\n",
        "\n",
        "        pred_logits = model.forward(inputs)\n",
        "        loss = self.criterion(pred_logits, targets)\n",
        "\n",
        "        # We want each row of W to sum to a negative\n",
        "        # g(W) <= 0\n",
        "        ineq_defect = model.linear.weight.sum(dim=1)\n",
        "\n",
        "        return cooper.CMPState(loss=loss, ineq_defect=ineq_defect, eq_defect=None)\n",
        "\n",
        "class TemplateConstrainedLogReg(cooper.ConstrainedMinimizationProblem):\n",
        "    def __init__(self):\n",
        "        self.criterion = torch.nn.CrossEntropyLoss()\n",
        "        super().__init__(is_constrained=True)\n",
        "\n",
        "    def closure(self, model, inputs, targets, template):\n",
        "\n",
        "        pred_logits = model.forward(inputs)\n",
        "        loss = self.criterion(pred_logits, targets)\n",
        "\n",
        "        # We want the sign of W to be equal to a template T.\n",
        "        # g(W) == T ---> g(W) - T == 0\n",
        "        eq_defect = (model.linear.weight.sign() - template).sum()\n",
        "\n",
        "        return cooper.CMPState(loss=loss, ineq_defect=None, eq_defect=eq_defect)\n",
        "\n",
        "class TemplateSumConstrainedLogReg(cooper.ConstrainedMinimizationProblem):\n",
        "    def __init__(self):\n",
        "        self.criterion = torch.nn.CrossEntropyLoss()\n",
        "        super().__init__(is_constrained=True)\n",
        "\n",
        "    def closure(self, model, inputs, targets, template):\n",
        "\n",
        "        pred_logits = model.forward(inputs)\n",
        "        loss = self.criterion(pred_logits, targets)\n",
        "\n",
        "        # We want each row of W to sum to a negative\n",
        "        # g(W) <= 0\n",
        "        ineq_defect = model.linear.weight.sum(dim=1)\n",
        "\n",
        "        # We want the sign of W to be equal to a template T.\n",
        "        # g(W) == T ---> g(W) - T == 0\n",
        "        eq_defect = (model.linear.weight.sign() - template).sum()\n",
        "\n",
        "        return cooper.CMPState(loss=loss, ineq_defect=ineq_defect, eq_defect=eq_defect)"
      ],
      "metadata": {
        "id": "K9c8MuaboJ1n"
      },
      "execution_count": 4,
      "outputs": []
    },
    {
      "cell_type": "markdown",
      "source": [
        "### Defining a toy weight matrix sign template in the context of Interactive Activation"
      ],
      "metadata": {
        "id": "Wl7pR13DoOm1"
      }
    },
    {
      "cell_type": "code",
      "source": [
        "# Define a function to check if a token is a word\n",
        "def is_word(token):\n",
        "    return token.isalpha()\n",
        "\n",
        "# Define a function to get the position of a letter/position token\n",
        "def get_position(token):\n",
        "    return int(token[1:]) if not is_word(token) else None\n",
        "\n",
        "def contains_letter(token, letter):\n",
        "    return letter in token\n",
        "\n",
        "\n",
        "def create_matrix(tokens=[], WtoL=0.01, LtoW=0.05, LtoL=-0.1, WtoW=-0.5):\n",
        "  # Initialize the adjacency matrix with all zeroes\n",
        "  adjacency_matrix = np.zeros((len(tokens), len(tokens)))\n",
        "\n",
        "  for i in range(len(tokens)):\n",
        "      for j in range(len(tokens)):\n",
        "          if i == j:\n",
        "              continue  # a token is not connected to itself\n",
        "          if is_word(tokens[i]) and is_word(tokens[j]):\n",
        "              # Two word tokens are always connected with a -1\n",
        "              adjacency_matrix[i, j] = WtoW\n",
        "          elif not is_word(tokens[i]) and not is_word(tokens[j]) and get_position(tokens[i]) == get_position(tokens[j]):\n",
        "              # Two letter/position tokens are connected with a -1 if they have the same position\n",
        "              adjacency_matrix[i, j] = LtoL\n",
        "\n",
        "  # Iterate over the tokens again to add +1 connections\n",
        "  for i in range(len(tokens)):\n",
        "      for j in range(len(tokens)):\n",
        "          if is_word(tokens[i]) and not is_word(tokens[j]) and contains_letter(tokens[i], tokens[j][0]):\n",
        "              # If a word token contains a letter/position token, there is a positive LtoWExc connection between them\n",
        "              adjacency_matrix[i, j] = WtoL\n",
        "              adjacency_matrix[j, i] = LtoW\n",
        "  return adjacency_matrix"
      ],
      "metadata": {
        "id": "tbeT3HRPVbxi"
      },
      "execution_count": 5,
      "outputs": []
    },
    {
      "cell_type": "code",
      "source": [
        "#tokens = ['a1', 'b2', 'c1', 'd2', 'ab', 'cd', 'ad']\n",
        "tokens = ['a1', 'b2', 'ab']\n",
        "n = len(tokens)\n",
        "A = create_matrix(tokens = tokens)\n"
      ],
      "metadata": {
        "id": "H_1rFbELLDWh"
      },
      "execution_count": 6,
      "outputs": []
    },
    {
      "cell_type": "markdown",
      "source": [
        "### Defnining a toy dataset in the context of interactive activation"
      ],
      "metadata": {
        "id": "vO6ZnYGqwG78"
      }
    },
    {
      "cell_type": "code",
      "source": [
        "# Adjust the word to letter mapping to account for the position of the letters\n",
        "word_to_letters = {word: [f'{letter}{i+1}' for i, letter in enumerate(word)] for word in tokens if is_word(word)}\n",
        "\n",
        "# Initialize empty lists for input and target data\n",
        "input_data = []\n",
        "target_data = []\n",
        "\n",
        "# Iterate over all word tokens\n",
        "value = 0.5\n",
        "for word, letters in word_to_letters.items():\n",
        "    # Create input and target vectors for each word\n",
        "    input_vector = [value if token in letters else 0 for token in tokens]\n",
        "    target_vector = input_vector.copy()\n",
        "    target_vector[tokens.index(word)] = value  # Set the corresponding word token to 1 in the target vector\n",
        "\n",
        "    # Add the input and target vectors to the data\n",
        "    input_data.append(input_vector)\n",
        "    target_data.append(target_vector)\n",
        "\n",
        "    # Create k variants with small perturbations\n",
        "    for _ in range(100):\n",
        "        perturbed_input_vector = [value + 0.05 * np.random.randn() for value in input_vector]\n",
        "        # Make sure values are within [0, 1]\n",
        "        perturbed_input_vector = np.clip(perturbed_input_vector, 0, 1)\n",
        "        input_data.append(perturbed_input_vector)\n",
        "        target_data.append(target_vector)\n",
        "\n",
        "# Convert the lists to numpy arrays\n",
        "input_data = np.array(input_data)\n",
        "target_data = np.array(target_data)\n",
        "\n",
        "# Plot the input and target data\n",
        "fig, ax = plt.subplots(ncols=2, figsize=(12, 6))\n",
        "\n",
        "# Input data\n",
        "cax = ax[0].imshow(input_data, cmap='viridis')\n",
        "fig.colorbar(cax, ax=ax[0])\n",
        "ax[0].set_title('Input Data')\n",
        "ax[0].set_xticks(np.arange(n))\n",
        "ax[0].set_xticklabels(tokens)\n",
        "\n",
        "# Target data\n",
        "cax = ax[1].imshow(target_data, cmap='viridis')\n",
        "fig.colorbar(cax, ax=ax[1])\n",
        "ax[1].set_title('Target Data')\n",
        "ax[1].set_xticks(np.arange(n))\n",
        "ax[1].set_xticklabels(tokens)\n",
        "\n",
        "plt.show()\n",
        "\n",
        "# Assuming you have input_data and target_data as numpy arrays\n",
        "input_data_torch = torch.from_numpy(input_data).float()\n",
        "target_data_torch = torch.from_numpy(target_data).float()"
      ],
      "metadata": {
        "id": "fJsPZ5h2wDha",
        "outputId": "36862b10-0ada-4e46-896d-de9d333f0acd",
        "colab": {
          "base_uri": "https://localhost:8080/",
          "height": 773
        }
      },
      "execution_count": 7,
      "outputs": [
        {
          "output_type": "error",
          "ename": "NameError",
          "evalue": "ignored",
          "traceback": [
            "\u001b[0;31m---------------------------------------------------------------------------\u001b[0m",
            "\u001b[0;31mNameError\u001b[0m                                 Traceback (most recent call last)",
            "\u001b[0;32m<ipython-input-7-b0147c569952>\u001b[0m in \u001b[0;36m<cell line: 39>\u001b[0;34m()\u001b[0m\n\u001b[1;32m     37\u001b[0m \u001b[0mfig\u001b[0m\u001b[0;34m.\u001b[0m\u001b[0mcolorbar\u001b[0m\u001b[0;34m(\u001b[0m\u001b[0mcax\u001b[0m\u001b[0;34m,\u001b[0m \u001b[0max\u001b[0m\u001b[0;34m=\u001b[0m\u001b[0max\u001b[0m\u001b[0;34m[\u001b[0m\u001b[0;36m0\u001b[0m\u001b[0;34m]\u001b[0m\u001b[0;34m)\u001b[0m\u001b[0;34m\u001b[0m\u001b[0;34m\u001b[0m\u001b[0m\n\u001b[1;32m     38\u001b[0m \u001b[0max\u001b[0m\u001b[0;34m[\u001b[0m\u001b[0;36m0\u001b[0m\u001b[0;34m]\u001b[0m\u001b[0;34m.\u001b[0m\u001b[0mset_title\u001b[0m\u001b[0;34m(\u001b[0m\u001b[0;34m'Input Data'\u001b[0m\u001b[0;34m)\u001b[0m\u001b[0;34m\u001b[0m\u001b[0;34m\u001b[0m\u001b[0m\n\u001b[0;32m---> 39\u001b[0;31m \u001b[0max\u001b[0m\u001b[0;34m[\u001b[0m\u001b[0;36m0\u001b[0m\u001b[0;34m]\u001b[0m\u001b[0;34m.\u001b[0m\u001b[0mset_xticks\u001b[0m\u001b[0;34m(\u001b[0m\u001b[0mnp\u001b[0m\u001b[0;34m.\u001b[0m\u001b[0marange\u001b[0m\u001b[0;34m(\u001b[0m\u001b[0mn\u001b[0m\u001b[0;34m)\u001b[0m\u001b[0;34m)\u001b[0m\u001b[0;34m\u001b[0m\u001b[0;34m\u001b[0m\u001b[0m\n\u001b[0m\u001b[1;32m     40\u001b[0m \u001b[0max\u001b[0m\u001b[0;34m[\u001b[0m\u001b[0;36m0\u001b[0m\u001b[0;34m]\u001b[0m\u001b[0;34m.\u001b[0m\u001b[0mset_xticklabels\u001b[0m\u001b[0;34m(\u001b[0m\u001b[0mtokens\u001b[0m\u001b[0;34m)\u001b[0m\u001b[0;34m\u001b[0m\u001b[0;34m\u001b[0m\u001b[0m\n\u001b[1;32m     41\u001b[0m \u001b[0;34m\u001b[0m\u001b[0m\n",
            "\u001b[0;31mNameError\u001b[0m: name 'n' is not defined"
          ]
        },
        {
          "output_type": "display_data",
          "data": {
            "text/plain": [
              "<Figure size 1200x600 with 3 Axes>"
            ],
            "image/png": "[encoded data removed]"
          },
          "metadata": {}
        }
      ]
    },
    {
      "cell_type": "markdown",
      "source": [
        "### Training with lagrangian"
      ],
      "metadata": {
        "id": "dCdVAlI59Jl4"
      }
    },
    {
      "cell_type": "code",
      "source": [
        "#cmp = NormConstrainedLogReg(); equality = False\n",
        "#cmp = SumConstrainedLogReg(); equality = False\n",
        "cmp = TemplateConstrainedLogReg(); equality = True\n",
        "formulation = cooper.LagrangianFormulation(cmp)\n",
        "\n",
        "model = LogisticRegression(A.size(0), A.size(1))\n",
        "\n",
        "# primal_optimizer = cooper.optim.ExtraSGD(model.parameters(), lr=1e-3, momentum=0.9)\n",
        "# dual_optimizer = cooper.optim.partial_optimizer(cooper.optim.ExtraSGD, lr=5e-3)\n",
        "\n",
        "primal_optimizer = torch.optim.SGD(model.parameters(), lr=1e-3, momentum=0.9)\n",
        "dual_optimizer = cooper.optim.partial_optimizer(torch.optim.SGD, lr=5e-3)\n",
        "\n",
        "coop = cooper.ConstrainedOptimizer(\n",
        "    formulation=formulation,\n",
        "    primal_optimizer=primal_optimizer,\n",
        "    dual_optimizer=dual_optimizer,\n",
        ")"
      ],
      "metadata": {
        "id": "5NqpEr2u9N89"
      },
      "execution_count": null,
      "outputs": []
    },
    {
      "cell_type": "code",
      "source": [
        "\n",
        "iter_num = 0\n",
        "\n",
        "state_history = OrderedDict()\n",
        "\n",
        "template = torch.from_numpy(np.sign(A)).float()\n",
        "inputs = torch.from_numpy(input_data).float()\n",
        "targets = torch.from_numpy(target_data).float()\n",
        "\n",
        "for epoch in range(3):\n",
        "      coop.zero_grad()\n",
        "      lagrangian = formulation.composite_objective(\n",
        "          cmp.closure, model, inputs, targets, template\n",
        "        )\n",
        "      formulation.custom_backward(lagrangian)\n",
        "      coop.step(cmp.closure, model, inputs, targets, template)\n",
        "\n",
        "      if iter_num % 5 == 0:\n",
        "          state_history[iter_num] = {\n",
        "                \"cmp\": cmp.state,\n",
        "                \"dual\": copy(formulation.state()),\n",
        "            }\n",
        "\n",
        "      iter_num += 1"
      ],
      "metadata": {
        "id": "E6CrYN-i9d9l"
      },
      "execution_count": null,
      "outputs": []
    },
    {
      "cell_type": "code",
      "source": [
        "\n",
        "iters, loss_history = zip(\n",
        "    *[(iter_num, _[\"cmp\"].loss.item()) for (iter_num, _) in state_history.items()]\n",
        "  )\n",
        "\n",
        "#for (foo, _) in state_history.items():\n",
        "#  print (foo, _)\n",
        "print (_[\"dual\"])\n",
        "mult_hist = [_[\"dual\"][1].data.numpy() for (foo, _) in state_history.items()]\n",
        "defect_hist = [_[\"cmp\"].eq_defect.data.numpy() for (foo, _) in state_history.items()]"
      ],
      "metadata": {
        "id": "QxrIuShG9iaK"
      },
      "execution_count": null,
      "outputs": []
    },
    {
      "cell_type": "code",
      "source": [
        "plt.plot(iters, mult_hist)\n",
        "plt.show()"
      ],
      "metadata": {
        "id": "sztWGQEd9r9_"
      },
      "execution_count": null,
      "outputs": []
    },
    {
      "cell_type": "code",
      "source": [
        "plt.plot(iters, defect_hist)\n",
        "plt.axhline(0.0, c=\"r\", alpha=0.2)\n",
        "plt.show()"
      ],
      "metadata": {
        "id": "E2YmRO199vJJ"
      },
      "execution_count": null,
      "outputs": []
    },
    {
      "cell_type": "code",
      "source": [
        "plt.plot(iters, loss_history)"
      ],
      "metadata": {
        "id": "4dPLj9mA9yFa"
      },
      "execution_count": null,
      "outputs": []
    },
    {
      "cell_type": "markdown",
      "source": [
        "Running Lotka-Volterra for interactive activtion with Lagrangian-constrained weight matrix"
      ],
      "metadata": {
        "id": "crXre1tpwXue"
      }
    },
    {
      "cell_type": "code",
      "execution_count": null,
      "metadata": {
        "id": "lR8vNaSm4x8y"
      },
      "outputs": [],
      "source": [
        "import matplotlib.pyplot as plt\n",
        "from scipy.integrate import odeint\n",
        "\n",
        "# Tokens\n",
        "tokens = ['a1', 'b2', 'c1', 'd2', 'ab', 'cd', 'ad']\n",
        "\n",
        "# Number of species\n",
        "N = len(tokens)\n",
        "\n",
        "# Let's set intrinsic growth rates such that r_i > 0\n",
        "r = 0.5*np.ones(N)\n",
        "print ('r', r)\n",
        "\n",
        "A = create_matrix(tokens = tokens)\n",
        "A = stabilize_matrix(A)\n",
        "\n",
        "# Define the system of differential equations\n",
        "def dXdt(X, t):\n",
        "    return X * (r + np.dot(A, X))\n",
        "\n",
        "# Initial conditions: start with equal populations\n",
        "#X0 = 0.01*np.ones(N)\n",
        "X0 = [0.1, 0.1, 0.001, 0.001, 0.001, 0.001, 0.001]\n",
        "\n",
        "# Time points\n",
        "T = 100\n",
        "t = np.linspace(0, T, 1000)\n",
        "\n",
        "# Solve the system of differential equations\n",
        "X = odeint(dXdt, X0, t)\n",
        "\n",
        "# Plot the results\n",
        "plt.figure(figsize=(12, 6)); print ('X.shape', X.shape)\n",
        "\n",
        "select = ['a1', 'b2', 'ab', 'cd', 'ad']\n",
        "tokens = ['a1', 'b2', 'c1', 'd2', 'ab', 'cd', 'ad']\n",
        "for i in range(X.shape[1]):\n",
        "    if tokens[i] in select:\n",
        "      plt.plot(t, X[:, i] +0.01*np.random.randn(X.shape[0]), label=tokens[i])\n",
        "plt.legend()\n",
        "plt.xlabel('Time')\n",
        "plt.ylabel('Population Size')\n",
        "plt.title('Evolution of Population Size over Time')\n",
        "plt.grid(True)\n",
        "plt.show()\n"
      ]
    }
  ]
}